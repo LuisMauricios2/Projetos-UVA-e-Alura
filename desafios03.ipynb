{
  "nbformat": 4,
  "nbformat_minor": 0,
  "metadata": {
    "colab": {
      "provenance": [],
      "authorship_tag": "ABX9TyM2mQPV5DjJ/vse8tCCNAQ0",
      "include_colab_link": true
    },
    "kernelspec": {
      "name": "python3",
      "display_name": "Python 3"
    },
    "language_info": {
      "name": "python"
    }
  },
  "cells": [
    {
      "cell_type": "markdown",
      "metadata": {
        "id": "view-in-github",
        "colab_type": "text"
      },
      "source": [
        "<a href=\"https://colab.research.google.com/github/LuisMauricios2/Projetos-UVA-e-Alura/blob/main/desafios03.ipynb\" target=\"_parent\"><img src=\"https://colab.research.google.com/assets/colab-badge.svg\" alt=\"Open In Colab\"/></a>"
      ]
    },
    {
      "cell_type": "code",
      "execution_count": 3,
      "metadata": {
        "colab": {
          "base_uri": "https://localhost:8080/"
        },
        "id": "JzV0AURSt-z9",
        "outputId": "dcdd8388-ba39-4728-d4c6-0facbaf70d73"
      },
      "outputs": [
        {
          "name": "stdout",
          "output_type": "stream",
          "text": [
            "Diga um numero inteiro: 6\n",
            "Diga outro numero inteiro: 6\n"
          ]
        }
      ],
      "source": [
        "# Escreva um programa que peça à pessoa usuária para fornecer dois números e exibir o número maior.\n",
        "\n",
        "numero1 = int(input('Diga um numero inteiro: '))\n",
        "numero2 = int(input('Diga outro numero inteiro: '))\n",
        "\n",
        "if numero1 > numero2:\n",
        "  print(numero1)\n",
        "if numero1 < numero2:\n",
        "  print(numero2)"
      ]
    },
    {
      "cell_type": "code",
      "source": [
        "#Escreva um programa que solicite o percentual de crescimento de produção de uma empresa e informe\n",
        "# se houve um crescimento (porcentagem positiva) ou decrescimento (porcentagem negativa).\n",
        "\n",
        "porc1 = int(input('informe com um numero de -100 a 100 quanto foi o aumento ou o decrescimento da sua empresa este ano: '))\n",
        "\n",
        "if porc1 > 0:\n",
        "  print(f'sua empresa teve um aumento de {porc1}% nos lucros este ano')\n",
        "elif porc1 == 0:\n",
        "  print(f'sua empresa não obteve nenhum aumento nos lucros este ano')\n",
        "else:\n",
        "  print(f'sua empresa obteve uma perca de {porc1}% nos lucros este ano')"
      ],
      "metadata": {
        "colab": {
          "base_uri": "https://localhost:8080/"
        },
        "id": "ggbjZ0OTxKir",
        "outputId": "fbf4891a-b636-43c9-e6ce-2ce39713ca05"
      },
      "execution_count": 8,
      "outputs": [
        {
          "output_type": "stream",
          "name": "stdout",
          "text": [
            "informe com um numero de -100 a 100 quanto foi o aumento ou o decrescimento da sua empresa este ano: 0\n",
            "sua empresa não obteve nenhum aumento de lucro este ano\n"
          ]
        }
      ]
    },
    {
      "cell_type": "markdown",
      "source": [
        "Escreva um programa que determine se uma letra fornecida pela pessoa usuária é uma vogal ou consoante."
      ],
      "metadata": {
        "id": "-KEXPG_02mTP"
      }
    },
    {
      "cell_type": "code",
      "source": [
        "vogais = 'a, e, i, o, u, A, E, I, O, U'\n",
        "\n",
        "letra = input('Digite uma letra do nosso alfabeto: ')\n",
        "\n",
        "if letra in vogais:\n",
        "  print(f'A letra {letra} é uma vogal.')\n",
        "else:\n",
        "  print(f'A letra {letra} é uma consoante.')"
      ],
      "metadata": {
        "colab": {
          "base_uri": "https://localhost:8080/"
        },
        "id": "qxdd2CJx2p3p",
        "outputId": "3154e6a8-4086-4475-84d0-5d3b46c85e6d"
      },
      "execution_count": 14,
      "outputs": [
        {
          "output_type": "stream",
          "name": "stdout",
          "text": [
            "Digite uma letra do nosso alfabeto: H\n",
            "A letra H é uma consoante.\n"
          ]
        }
      ]
    },
    {
      "cell_type": "markdown",
      "source": [
        "Escreva um programa que leia valores médios de preços de um modelo de carro por 3 anos consecutivos e exiba o valor mais alto e mais baixo entre esses três anos."
      ],
      "metadata": {
        "id": "cOxg5tLB49Yx"
      }
    },
    {
      "cell_type": "code",
      "source": [
        "ano1 = float(input('Digite o valor do carro esse ano: '))\n",
        "ano2 = float(input('Digite o valor do carro esse ano: '))\n",
        "ano3 = float(input('Digite o valor do carro esse ano: '))\n",
        "\n",
        "if ano1 > ano2 and ano1 > ano3:\n",
        "  print(f'{ano1} foi o valor mais alto nesses 3 anos. (ano 1)')\n",
        "elif ano2 > ano1 and ano2 > ano3:\n",
        "  print(f'{ano2} foi o valor mais alto nesses 3 anos. (ano 2)')\n",
        "else:\n",
        "  print(f'{ano3} foi o valor mais alto nesses 3 anos. (ano 3)')\n",
        "\n",
        "if ano1 < ano2 and ano1 < ano3:\n",
        "  print(f'{ano1} foi o valor mais baixo nesses 3 anos. (ano 1)')\n",
        "elif ano2 < ano1 and ano2 < ano3:\n",
        "  print(f'{ano2} foi o valor mais baixo nesses 3 anos. (ano 2)')\n",
        "else:\n",
        "  print(f'{ano3} foi o valor mais baixo nesses 3 anos. (ano 3)')"
      ],
      "metadata": {
        "colab": {
          "base_uri": "https://localhost:8080/"
        },
        "id": "H4mWiaao5EO5",
        "outputId": "00e90bfe-7d8d-40cb-a580-4731a6a291a9"
      },
      "execution_count": 27,
      "outputs": [
        {
          "output_type": "stream",
          "name": "stdout",
          "text": [
            "Digite o valor do carro esse ano: 53000\n",
            "Digite o valor do carro esse ano: 49000\n",
            "Digite o valor do carro esse ano: 54000\n",
            "54000.0 foi o valor mais alto nesses 3 anos. (ano 3)\n",
            "49000.0 foi o valor mais baixo nesses 3 anos. (ano 2)\n"
          ]
        }
      ]
    },
    {
      "cell_type": "code",
      "source": [],
      "metadata": {
        "id": "14VC0w8rCSC4"
      },
      "execution_count": null,
      "outputs": []
    }
  ]
}