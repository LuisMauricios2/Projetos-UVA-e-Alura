{
  "nbformat": 4,
  "nbformat_minor": 0,
  "metadata": {
    "colab": {
      "provenance": [],
      "authorship_tag": "ABX9TyNHHeazk1mU8YoZ4xcnmPVa",
      "include_colab_link": true
    },
    "kernelspec": {
      "name": "python3",
      "display_name": "Python 3"
    },
    "language_info": {
      "name": "python"
    }
  },
  "cells": [
    {
      "cell_type": "markdown",
      "metadata": {
        "id": "view-in-github",
        "colab_type": "text"
      },
      "source": [
        "<a href=\"https://colab.research.google.com/github/LuisMauricios2/Projetos-UVA-e-Alura/blob/main/desafios03_corrigido.ipynb\" target=\"_parent\"><img src=\"https://colab.research.google.com/assets/colab-badge.svg\" alt=\"Open In Colab\"/></a>"
      ]
    },
    {
      "cell_type": "code",
      "execution_count": null,
      "metadata": {
        "colab": {
          "base_uri": "https://localhost:8080/"
        },
        "id": "JzV0AURSt-z9",
        "outputId": "dcdd8388-ba39-4728-d4c6-0facbaf70d73"
      },
      "outputs": [
        {
          "name": "stdout",
          "output_type": "stream",
          "text": [
            "Diga um numero inteiro: 6\n",
            "Diga outro numero inteiro: 6\n"
          ]
        }
      ],
      "source": [
        "# Escreva um programa que peça à pessoa usuária para fornecer dois números e exibir o número maior.\n",
        "\n",
        "numero1 = int(input('Diga um numero inteiro: '))\n",
        "numero2 = int(input('Diga outro numero inteiro: '))\n",
        "\n",
        "if numero1 > numero2:\n",
        "  print(numero1)\n",
        "if numero1 < numero2:\n",
        "  print(numero2)"
      ]
    },
    {
      "cell_type": "code",
      "source": [
        "#Escreva um programa que solicite o percentual de crescimento de produção de uma empresa e informe\n",
        "# se houve um crescimento (porcentagem positiva) ou decrescimento (porcentagem negativa).\n",
        "\n",
        "porc1 = int(input('informe com um numero de -100 a 100 quanto foi o aumento ou o decrescimento da sua empresa este ano: '))\n",
        "\n",
        "if porc1 > 0:\n",
        "  print(f'sua empresa teve um aumento de {porc1}% nos lucros este ano')\n",
        "elif porc1 == 0:\n",
        "  print(f'sua empresa não obteve nenhum aumento nos lucros este ano')\n",
        "else:\n",
        "  print(f'sua empresa obteve uma perca de {porc1}% nos lucros este ano')"
      ],
      "metadata": {
        "colab": {
          "base_uri": "https://localhost:8080/"
        },
        "id": "ggbjZ0OTxKir",
        "outputId": "fbf4891a-b636-43c9-e6ce-2ce39713ca05"
      },
      "execution_count": null,
      "outputs": [
        {
          "output_type": "stream",
          "name": "stdout",
          "text": [
            "informe com um numero de -100 a 100 quanto foi o aumento ou o decrescimento da sua empresa este ano: 0\n",
            "sua empresa não obteve nenhum aumento de lucro este ano\n"
          ]
        }
      ]
    },
    {
      "cell_type": "markdown",
      "source": [
        "Escreva um programa que determine se uma letra fornecida pela pessoa usuária é uma vogal ou consoante."
      ],
      "metadata": {
        "id": "-KEXPG_02mTP"
      }
    },
    {
      "cell_type": "code",
      "source": [
        "vogais = 'a, e, i, o, u, A, E, I, O, U'\n",
        "\n",
        "letra = input('Digite uma letra do nosso alfabeto: ')\n",
        "\n",
        "if letra in vogais:\n",
        "  print(f'A letra {letra} é uma vogal.')\n",
        "else:\n",
        "  print(f'A letra {letra} é uma consoante.')"
      ],
      "metadata": {
        "colab": {
          "base_uri": "https://localhost:8080/"
        },
        "id": "qxdd2CJx2p3p",
        "outputId": "3154e6a8-4086-4475-84d0-5d3b46c85e6d"
      },
      "execution_count": null,
      "outputs": [
        {
          "output_type": "stream",
          "name": "stdout",
          "text": [
            "Digite uma letra do nosso alfabeto: H\n",
            "A letra H é uma consoante.\n"
          ]
        }
      ]
    },
    {
      "cell_type": "markdown",
      "source": [
        "Escreva um programa que leia valores médios de preços de um modelo de carro por 3 anos consecutivos e exiba o valor mais alto e mais baixo entre esses três anos."
      ],
      "metadata": {
        "id": "cOxg5tLB49Yx"
      }
    },
    {
      "cell_type": "code",
      "source": [
        "ano1 = float(input('Digite o valor do carro esse ano: '))\n",
        "ano2 = float(input('Digite o valor do carro esse ano: '))\n",
        "ano3 = float(input('Digite o valor do carro esse ano: '))\n",
        "\n",
        "if ano1 > ano2 and ano1 > ano3:\n",
        "  print(f'{ano1} foi o valor mais alto nesses 3 anos. (ano 1)')\n",
        "elif ano2 > ano1 and ano2 > ano3:\n",
        "  print(f'{ano2} foi o valor mais alto nesses 3 anos. (ano 2)')\n",
        "else:\n",
        "  print(f'{ano3} foi o valor mais alto nesses 3 anos. (ano 3)')\n",
        "\n",
        "if ano1 < ano2 and ano1 < ano3:\n",
        "  print(f'{ano1} foi o valor mais baixo nesses 3 anos. (ano 1)')\n",
        "elif ano2 < ano1 and ano2 < ano3:\n",
        "  print(f'{ano2} foi o valor mais baixo nesses 3 anos. (ano 2)')\n",
        "else:\n",
        "  print(f'{ano3} foi o valor mais baixo nesses 3 anos. (ano 3)')"
      ],
      "metadata": {
        "colab": {
          "base_uri": "https://localhost:8080/"
        },
        "id": "H4mWiaao5EO5",
        "outputId": "00e90bfe-7d8d-40cb-a580-4731a6a291a9"
      },
      "execution_count": null,
      "outputs": [
        {
          "output_type": "stream",
          "name": "stdout",
          "text": [
            "Digite o valor do carro esse ano: 53000\n",
            "Digite o valor do carro esse ano: 49000\n",
            "Digite o valor do carro esse ano: 54000\n",
            "54000.0 foi o valor mais alto nesses 3 anos. (ano 3)\n",
            "49000.0 foi o valor mais baixo nesses 3 anos. (ano 2)\n"
          ]
        }
      ]
    },
    {
      "cell_type": "markdown",
      "source": [
        "Escreva um programa que pergunte sobre o preço de três produtos e indique qual é o produto mais barato para comprar."
      ],
      "metadata": {
        "id": "PVEbN13vDdFG"
      }
    },
    {
      "cell_type": "code",
      "source": [
        "produto1 = float(input('Digite o preço do produto 1: '))\n",
        "produto2 = float(input('Digite o preço do produto 2: '))\n",
        "produto3 = float(input('Digite o preço do produto 3: '))\n",
        "\n",
        "if produto1 < produto2 and produto1 < produto3:\n",
        "  print(f'O produto 1 custa {produto1} é o mais barato dos 3 produtos')\n",
        "elif produto2 < produto1 and produto2 < produto3:\n",
        "  print(f'O produto 2 custa {produto2} é o mais barato dos 3 produtos')\n",
        "else:\n",
        "  print(f'O produto 3 custa {produto3} é o mais barato dos 3 produtos')\n"
      ],
      "metadata": {
        "id": "x_qdTpOuDp06",
        "colab": {
          "base_uri": "https://localhost:8080/"
        },
        "outputId": "d461bd99-640c-4ae1-ac3c-0a771d73a5f8"
      },
      "execution_count": 4,
      "outputs": [
        {
          "output_type": "stream",
          "name": "stdout",
          "text": [
            "Digite o preço do produto 1: 56\n",
            "Digite o preço do produto 2: 96\n",
            "Digite o preço do produto 3: 49\n",
            "O produto 3 custa 49.0 é o mais barato dos 3 produtos\n"
          ]
        }
      ]
    },
    {
      "cell_type": "markdown",
      "source": [
        "Escreva um programa que leia três números e os exiba em ordem decrescente."
      ],
      "metadata": {
        "id": "_xLr2NaqL0Hf"
      }
    },
    {
      "cell_type": "code",
      "source": [
        "n1 = int(input('Digite um numero: '))\n",
        "n2 = int(input('Digite um numero: '))\n",
        "n3 = int(input('Digite um numero: '))\n",
        "\n",
        "# comparando os numero e verificando qual o maior e menor e os executando em ordem decrescente\n",
        "if n1 > n2 and n1 > n3 and n2 > n3:\n",
        "  print(f'{n1}, {n2}, {n3}')\n",
        "elif n2 > n1 and n2 > n3 and n1 > n3:\n",
        "  print(f'{n2}, {n1}, {n3}')\n",
        "elif n1 > n2 and n1 > n3 and n3 > n2:\n",
        "  print(f'{n1}, {n3}, {n2}')\n",
        "elif n2 > n1 and n2 > n3 and n3 > n1:\n",
        "  print(f'{n2}, {n3}, {n1}')\n",
        "elif n3 > n1 and n3 > n2 and n1 > n2:\n",
        "  print(f'{n3}, {n1}, {n2}')\n",
        "else:\n",
        "  print(f'{n3}, {n2}, {n1}')\n",
        "\n",
        "# exemplo de codigo simplificado a baixo codigo mais limpo e com pratica melhor\n",
        "\n",
        "#numeros = [int(input('insira o número 1 ')),\n",
        "#int(input('insira o número 2 ')),\n",
        "#int(input('insira o número 3 '))]\n",
        "\n",
        "#sorted_numeros = sorted(numeros)\n",
        "\n",
        "#print(sorted_numeros)\n"
      ],
      "metadata": {
        "colab": {
          "base_uri": "https://localhost:8080/"
        },
        "id": "ce47rPskMAVx",
        "outputId": "830ed9d7-766b-4fde-bdb1-8ea52235a72c"
      },
      "execution_count": 8,
      "outputs": [
        {
          "output_type": "stream",
          "name": "stdout",
          "text": [
            "Digite um numero: 7\n",
            "Digite um numero: 4\n",
            "Digite um numero: 2\n",
            "7, 4, 2\n"
          ]
        }
      ]
    },
    {
      "cell_type": "markdown",
      "source": [
        "Escreva um programa que pergunte em qual turno a pessoa usuária estuda (\"manhã\", \"tarde\" ou \"noite\") e exiba a mensagem \"Bom Dia!\", \"Boa Tarde!\", \"Boa Noite!\", ou \"Valor Inválido!\", conforme o caso."
      ],
      "metadata": {
        "id": "v024z3pBS-oh"
      }
    },
    {
      "cell_type": "code",
      "source": [
        "turno = str(input('Em qual turno você estuda manhã, tarde ou noite? '))\n",
        "\n",
        "# comparando as strings\n",
        "if turno == 'manhã' or turno == 'Manhã' or turno == 'manha' or turno == 'Manha':\n",
        "  print ('Tenha um bom dia!!')\n",
        "elif turno == 'tarde' or turno == 'Tarde':\n",
        "  print('Tenha uma boa tarde!!')\n",
        "elif turno == 'noite' or turno == 'Noite':\n",
        "  print('Tenha uma boa noite!!')\n",
        "else:\n",
        "  print('Valor invalido! mee!')"
      ],
      "metadata": {
        "colab": {
          "base_uri": "https://localhost:8080/"
        },
        "id": "Y7XwK4acTB5h",
        "outputId": "b798a6fb-f8ee-44a5-bcbb-d2b3235ce1bd"
      },
      "execution_count": 14,
      "outputs": [
        {
          "output_type": "stream",
          "name": "stdout",
          "text": [
            "Em qual turno você estuda manhã, tarde ou noite? Manha\n",
            "Tenha um bom dia!!\n"
          ]
        }
      ]
    },
    {
      "cell_type": "markdown",
      "source": [
        "Escreva um programa que peça um número inteiro à pessoa usuária e determine se ele é par ou ímpar. Dica: Você pode utilizar o operador módulo %."
      ],
      "metadata": {
        "id": "Dzq0gE4oX0QK"
      }
    },
    {
      "cell_type": "code",
      "source": [
        "numeroInteiro = int(input('Digite um numero inteiro para verificarmos se é par ou impar: '))\n",
        "\n",
        "# verificando se o resto da divisão do numero por 2 é igual a 0 se for o numero é par do contrario é impar.\n",
        "if numeroInteiro % 2 == 0:\n",
        "  print(f'O numero {numeroInteiro} é par.')\n",
        "else:\n",
        "  print(f'O numero {numeroInteiro} é impar.')"
      ],
      "metadata": {
        "colab": {
          "base_uri": "https://localhost:8080/"
        },
        "id": "EWZPUof3X1wu",
        "outputId": "98f4d8b4-2abb-4f17-a614-bac5494cce87"
      },
      "execution_count": 16,
      "outputs": [
        {
          "output_type": "stream",
          "name": "stdout",
          "text": [
            "Digite um numero inteiro para verificarmos se é par ou impar: 3\n",
            "O numero 3 é impar.\n"
          ]
        }
      ]
    },
    {
      "cell_type": "markdown",
      "source": [
        "Escreva um programa que peça um número à pessoa usuária e informe se ele é inteiro ou decimal."
      ],
      "metadata": {
        "id": "GnEYIFEVZouK"
      }
    },
    {
      "cell_type": "code",
      "source": [
        "# Coletamos os dados\n",
        "num = float(input('Digite um número: '))\n",
        "\n",
        "# Verificamos se o número é inteiro ou decimal através do resultado do módulo\n",
        "if num % 1 == 0:\n",
        "    print('O número é inteiro.')\n",
        "else:\n",
        "    print('O número é decimal.')\n"
      ],
      "metadata": {
        "id": "8pl0kt5eZts-"
      },
      "execution_count": null,
      "outputs": []
    },
    {
      "cell_type": "markdown",
      "source": [
        "Um programa deve ser escrito para ler dois números e, em seguida, perguntar à pessoa usuária qual operação ele deseja realizar. O resultado da operação deve incluir informações sobre o número - se é par ou ímpar, positivo ou negativo e inteiro ou decimal."
      ],
      "metadata": {
        "id": "pz2j9bUQiGzR"
      }
    },
    {
      "cell_type": "code",
      "source": [
        "# Coletamos os números a serem operados e solicitamos a operação desejada pela pessoa usuária\n",
        "num1 = float(input('Informe o primeiro número: '))\n",
        "num2 = float(input('Informe o segundo número: '))\n",
        "operacao = input('Informe a operação desejada (+, -, *, /): ')\n",
        "\n",
        "# Verificamos o operador que foi selecionado e executa a operação matemática conforme a seleção\n",
        "if operacao == '+':\n",
        "    resultado = num1 + num2\n",
        "elif operacao == '-':\n",
        "    resultado = num1 - num2\n",
        "elif operacao == '*':\n",
        "    resultado = num1 * num2\n",
        "elif operacao == '/':\n",
        "    resultado = num1 / num2\n",
        "else: # Especificamos um resultado caso a pessoa usuária não digite alguma das operações corretamente.\n",
        "    print('Operação inválida, resultado da operação será 0')\n",
        "    resultado = 0\n",
        "\n",
        "#  Fazemos as mesmas verificações das questões anteriores para fazer o relatório do cálculo entre números\n",
        "if resultado % 1 == 0:\n",
        "    print('O resultado é inteiro.')\n",
        "else:\n",
        "    print('O resultado é decimal.')\n",
        "\n",
        "if resultado > 0:\n",
        "    print('O resultado é positivo.')\n",
        "elif resultado == 0:\n",
        "    print('O resultado é neutro.')\n",
        "else:\n",
        "    print('O resultado é negativo.')\n",
        "\n",
        "if resultado % 2 == 0:\n",
        "    print('O resultado é par.')\n",
        "else:\n",
        "    print('O resultado é ímpar.')\n"
      ],
      "metadata": {
        "id": "hQ3rsnvliWLW"
      },
      "execution_count": null,
      "outputs": []
    },
    {
      "cell_type": "markdown",
      "source": [
        "Escreva um programa que peça à pessoa usuária três números que representam os lados de um triângulo. O programa deve informar se os valores podem ser utilizados para formar um triângulo e, caso afirmativo, se ele é equilátero, isósceles ou escaleno. Tenha em mente algumas dicas:\n",
        "\n",
        "Três lados formam um triângulo quando a soma de quaisquer dois lados for maior que o terceiro;\n",
        "Triângulo Equilátero: três lados iguais;\n",
        "Triângulo Isósceles: quaisquer dois lados iguais;\n",
        "Triângulo Escaleno: três lados diferentes."
      ],
      "metadata": {
        "id": "6wY0Yy23jbB-"
      }
    },
    {
      "cell_type": "code",
      "source": [
        "# Coletamos os lados de um triângulo\n",
        "print('Coletaremos os lados de um triângulo.')\n",
        "lado1 = float(input('Digite o comprimento do primeiro lado: '))\n",
        "lado2 = float(input('Digite o comprimento do segundo lado: '))\n",
        "lado3 = float(input('Digite o comprimento do terceiro lado: '))\n",
        "\n",
        "# Verificamos de os lados formam um triângulo\n",
        "if (lado1 + lado2 > lado3) and (lado2 + lado3 > lado1) and (lado1 + lado3 > lado2):\n",
        "    print('Os valores podem formar um triângulo!')\n",
        "    # comparamos os lados para verificar o tipo de triângulo\n",
        "    if (lado1 == lado2) and (lado2 == lado3):\n",
        "        print('O triângulo é equilátero.')\n",
        "    elif (lado1 != lado2) and (lado2 != lado3) and (lado1 != lado3):\n",
        "        print('O triângulo é escaleno.')\n",
        "    else:\n",
        "        print('O triângulo é isósceles.')\n",
        "else:\n",
        "    print('Os valores não podem formar um triângulo!')\n"
      ],
      "metadata": {
        "id": "3Exy32pHjbgr"
      },
      "execution_count": null,
      "outputs": []
    },
    {
      "cell_type": "markdown",
      "source": [
        "Um estabelecimento está vendendo combustíveis com descontos variados. Para o etanol, se a quantidade comprada for até 15 litros, o desconto será de 2% por litro. Caso contrário, será de 4% por litro. Para o diesel, se a quantidade comprada for até 15 litros, o desconto será de 3% por litro. Caso contrário, será de 5% por litro. O preço do litro de diesel é R$ 2,00 e o preço do litro de etanol é R$ 1,70. Escreva um programa que leia a quantidade de litros vendidos e o tipo de combustível (E para etanol e D para diesel) e calcule o valor a ser pago pelo cliente. Tenha em mente algumas dicas:\n",
        "\n",
        "\n",
        "O do valor do desconto será a multiplicação entre preço do litro, quantidade de litros e o valor do desconto.\n",
        "O valor a ser pago por um cliente será o resultado da multiplicação do preço do litro pela quantidade de litros menos o valor de desconto resultante do cálculo."
      ],
      "metadata": {
        "id": "IRWRhsW_j50i"
      }
    },
    {
      "cell_type": "code",
      "source": [
        "# Coletamos a quantidade de litros e o tipo de combustível,\n",
        "# já deixando o caractere em maiúsculo para facilitar nossa análise\n",
        "quantidade_litros = float(input('Informe a quantidade de litros vendidos: '))\n",
        "tipo_combustivel = input('Informe o tipo de combustível (E para etanol e D para diesel): ').upper()\n",
        "\n",
        "#  Verificamos primeiro o tipo de combustível\n",
        "if tipo_combustivel == 'E':\n",
        "  # Taxamos o valor do preço em litros do etanol\n",
        "  preco_litro = 1.70\n",
        "  # De acordo com o valor da quantidade de litros, taxamos também o desconto\n",
        "  if quantidade_litros <= 15:\n",
        "    desconto = 0.02\n",
        "  else:\n",
        "    desconto = 0.04\n",
        "elif tipo_combustivel == 'D':\n",
        "  # Taxamos o valor do preço em litros do disel\n",
        "  preco_litro = 2.00\n",
        "  # De acordo com o valor da quantidade de litros, taxamos também o desconto\n",
        "  if quantidade_litros <= 15:\n",
        "    desconto = 0.03\n",
        "  else:\n",
        "    desconto = 0.05\n",
        "# Caso ocorra um erro na especificação de tipo de combustível,\n",
        "# consideramos entradas inválidas, e os preços são taxados em 0\n",
        "else:\n",
        "    print('Entradas inválidas!')\n",
        "    preco_litro = 0\n",
        "    desconto = 0\n",
        "\n",
        "# Fazemos o cálculo do valor de desconto, seguido do cálculo do preço descontado\n",
        "valor_desconto = preco_litro * quantidade_litros * desconto\n",
        "valor_pago = preco_litro * quantidade_litros - valor_desconto\n",
        "\n",
        "# Resultado\n",
        "print(f'Valor a ser pago pelo cliente: R$ {valor_pago}')\n"
      ],
      "metadata": {
        "id": "rUOEoVfKkUe3"
      },
      "execution_count": null,
      "outputs": []
    },
    {
      "cell_type": "markdown",
      "source": [
        "Em uma empresa de venda de imóveis você precisa criar um código que analise os dados de vendas anuais para ajudar a diretoria na tomada de decisão. O código precisa coletar os dados de quantidade de venda durante os anos de 2022 e 2023 e fazer um cálculo de variação percentual. A partir do valor da variação, deve ser enviada às seguintes sugestões:\n",
        "\n",
        "\n",
        "Para variação acima de 20%: bonificação para o time de vendas.\n",
        "Para variação entre 2% e 20%: pequena bonificação para time de vendas.\n",
        "Para variação entre 2% e -10%: planejamento de políticas de incentivo às vendas.\n",
        "Para bonificações abaixo de -10%: corte de gastos."
      ],
      "metadata": {
        "id": "NMgbHKOJkwyK"
      }
    },
    {
      "cell_type": "code",
      "source": [
        "# Coletamos as vendas dos dois anos\n",
        "venda_2022 = float(input('Informe a quantidade de vendas em 2022: '))\n",
        "venda_2023 = float(input('Informe a quantidade de vendas em 2023: '))\n",
        "\n",
        "# Calculamos a variação percentual entre as vendas dos anos de 2022 e 2023\n",
        "var_percentual = 100 * (venda_2023 - venda_2022) / (venda_2022)\n",
        "\n",
        "# Análise condicional da variação percentual para determinar a sugestão a ser enviada\n",
        "if var_percentual > 20:\n",
        "    print('Bonificação para o time de vendas.')\n",
        "elif 2 <= var_percentual <= 20:\n",
        "    print('Pequena bonificação para time de vendas.')\n",
        "elif -10 <= var_percentual < 2:\n",
        "    print('Planejamento de políticas de incentivo às vendas.')\n",
        "else:\n",
        "    print('Corte de gastos.')\n"
      ],
      "metadata": {
        "id": "oQbf1XxQkxul"
      },
      "execution_count": null,
      "outputs": []
    }
  ]
}