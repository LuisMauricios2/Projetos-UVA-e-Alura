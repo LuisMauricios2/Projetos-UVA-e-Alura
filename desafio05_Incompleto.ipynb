{
  "nbformat": 4,
  "nbformat_minor": 0,
  "metadata": {
    "colab": {
      "provenance": [],
      "authorship_tag": "ABX9TyPbUv/ogcxyClmZB3Z3KqW0",
      "include_colab_link": true
    },
    "kernelspec": {
      "name": "python3",
      "display_name": "Python 3"
    },
    "language_info": {
      "name": "python"
    }
  },
  "cells": [
    {
      "cell_type": "markdown",
      "metadata": {
        "id": "view-in-github",
        "colab_type": "text"
      },
      "source": [
        "<a href=\"https://colab.research.google.com/github/LuisMauricios2/Projetos-UVA-e-Alura/blob/main/desafio05_Incompleto.ipynb\" target=\"_parent\"><img src=\"https://colab.research.google.com/assets/colab-badge.svg\" alt=\"Open In Colab\"/></a>"
      ]
    },
    {
      "cell_type": "markdown",
      "source": [
        "Faça um programa que tenha a seguinte lista contendo os valores de gastos de uma empresa de papel [2172.54, 3701.35, 3518.09, 3456.61, 3249.38, 2840.82, 3891.45, 3075.26, 2317.64, 3219.08]. Com esses valores, faça um programa que calcule a média de gastos. Dica: use as funções built-in sum() e len()."
      ],
      "metadata": {
        "id": "PlKjeoexF6A4"
      }
    },
    {
      "cell_type": "code",
      "execution_count": null,
      "metadata": {
        "colab": {
          "base_uri": "https://localhost:8080/"
        },
        "id": "DPBxzLBfDobj",
        "outputId": "88a69e72-24f9-4fb6-d1e4-39af3f192f64"
      },
      "outputs": [
        {
          "output_type": "stream",
          "name": "stdout",
          "text": [
            "[2172.54, 3701.35, 3518.09, 3456.61, 3249.38, 2840.82, 3891.45, 3075.26, 2317.64, 3219.08]\n"
          ]
        }
      ],
      "source": [
        "# criando a variavel lista.\n",
        "gastos = [2172.54, 3701.35, 3518.09, 3456.61, 3249.38, 2840.82, 3891.45, 3075.26, 2317.64, 3219.08]\n",
        "print(gastos)"
      ]
    },
    {
      "cell_type": "code",
      "source": [
        "# calculando a media usando o metodo sum para somar os valores da lista e dividindo\n",
        "# pelo metodo len que usa a quantidades de indice dentro da lista como base.\n",
        "media = sum(gastos) / len(gastos)\n",
        "print(media)"
      ],
      "metadata": {
        "colab": {
          "base_uri": "https://localhost:8080/"
        },
        "id": "y8zEBPN5IOXf",
        "outputId": "9b4b6dec-4b83-4851-ed9c-22788f566d32"
      },
      "execution_count": null,
      "outputs": [
        {
          "output_type": "stream",
          "name": "stdout",
          "text": [
            "3144.222\n"
          ]
        }
      ]
    },
    {
      "cell_type": "markdown",
      "source": [
        "Com os mesmos dados da questão anterior, defina quantas compras foram realizadas acima de 3000 reais e calcule a porcentagem quanto ao total de compras."
      ],
      "metadata": {
        "id": "ePvjw6b6N7kI"
      }
    },
    {
      "cell_type": "code",
      "source": [
        "#usando o laço for para percorer a lista e encontrar os valores acima de 3000.\n",
        "for comprasAcima3k in gastos:\n",
        "  if comprasAcima3k > 3000:\n",
        "    print(comprasAcima3k)\n"
      ],
      "metadata": {
        "colab": {
          "base_uri": "https://localhost:8080/"
        },
        "id": "Z_DVexoBOC9_",
        "outputId": "a02dec55-fcb1-4250-d04f-240f9257aa8d"
      },
      "execution_count": null,
      "outputs": [
        {
          "output_type": "stream",
          "name": "stdout",
          "text": [
            "3701.35\n",
            "3518.09\n",
            "3456.61\n",
            "3249.38\n",
            "3891.45\n",
            "3075.26\n",
            "3219.08\n"
          ]
        }
      ]
    },
    {
      "cell_type": "code",
      "source": [
        "# criando lista valores acima de 3000\n",
        "gastosAcima3000 = [3701.35, 3518.09, 3456.61, 3249.38, 3891.45, 3075.26, 3219.08]\n",
        "#fazendo o calculo do valor percentual usando metodo sum\n",
        "ValorPercentual = int(sum(gastosAcima3000) * 100 / sum(gastos))\n",
        "print(f'foram realizadas {len(gastosAcima3000)} compras acima de 3000 reais')\n",
        "print(f'As {len(gastosAcima3000)} compras acima de 3000 equivalem a {ValorPercentual}% do valor total de compra')"
      ],
      "metadata": {
        "colab": {
          "base_uri": "https://localhost:8080/"
        },
        "id": "M8jRyviBRNAt",
        "outputId": "84950f5a-3074-4987-da6c-59c96c3a0a69"
      },
      "execution_count": null,
      "outputs": [
        {
          "output_type": "stream",
          "name": "stdout",
          "text": [
            "foram realizadas 7 compras acima de 3000 reais\n",
            "As 7 compras acima de 3000 equivalem a 76% do valor total de compra\n"
          ]
        }
      ]
    },
    {
      "cell_type": "markdown",
      "source": [
        " Faça um código que colete em uma lista 5 números inteiros quaisquer e imprima a lista. Exemplo: [1,4,7,2,4]."
      ],
      "metadata": {
        "id": "imT-PglbkWMq"
      }
    },
    {
      "cell_type": "code",
      "source": [
        "print('Digite 5 numeros inteiros')\n",
        "#coletando numerosdentro de uma lista e os convertendo de str para numeros inteiros com o int.\n",
        "listaDeNumeros = [int(input('Digite o primeiro numero: ')), int(input('Digite o segundo numero: ')), int(input('Digite o terceiro numero: ')),\n",
        "int(input('Digite o quarto numero: ')), int(input('Digite o ultimo numero: '))]"
      ],
      "metadata": {
        "colab": {
          "base_uri": "https://localhost:8080/"
        },
        "id": "ig0eP-_bkbAb",
        "outputId": "3bca6f4c-0c5b-46ba-a4f3-9bdae60cd487"
      },
      "execution_count": null,
      "outputs": [
        {
          "name": "stdout",
          "output_type": "stream",
          "text": [
            "Digite 5 numeros inteiros\n",
            "Digite o primeiro numero: 2\n",
            "Digite o segundo numero: 3\n",
            "Digite o terceiro numero: 4\n",
            "Digite o quarto numero: 5\n",
            "Digite o ultimo numero: 6\n"
          ]
        }
      ]
    },
    {
      "cell_type": "code",
      "source": [
        "listaDeNumeros"
      ],
      "metadata": {
        "colab": {
          "base_uri": "https://localhost:8080/"
        },
        "id": "PRGOCx3JlLeX",
        "outputId": "1949dfb9-6016-4cd9-953c-4e42fb3c5720"
      },
      "execution_count": null,
      "outputs": [
        {
          "output_type": "execute_result",
          "data": {
            "text/plain": [
              "[2, 3, 4, 5, 6]"
            ]
          },
          "metadata": {},
          "execution_count": 74
        }
      ]
    },
    {
      "cell_type": "markdown",
      "source": [
        "Faça um programa que, ao inserir um número qualquer, cria uma lista contendo todos os números primos entre 1 e o número digitado."
      ],
      "metadata": {
        "id": "N5uHC62B0fzV"
      }
    },
    {
      "cell_type": "code",
      "source": [],
      "metadata": {
        "id": "DjSY2gF00zxQ"
      },
      "execution_count": null,
      "outputs": []
    }
  ]
}